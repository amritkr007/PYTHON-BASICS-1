{
  "nbformat": 4,
  "nbformat_minor": 0,
  "metadata": {
    "colab": {
      "provenance": []
    },
    "kernelspec": {
      "name": "python3",
      "display_name": "Python 3"
    },
    "language_info": {
      "name": "python"
    }
  },
  "cells": [
    {
      "cell_type": "code",
      "execution_count": null,
      "metadata": {
        "id": "gm0rdretMDbK"
      },
      "outputs": [],
      "source": []
    },
    {
      "cell_type": "markdown",
      "source": [
        "1.What is Python, and why is it popular\n",
        "\n",
        "  - Python is a high-level, interpreted programming language known for its simplicity, readability, and versatility. It was created by Guido van Rossum and first released in 1991. Python emphasizes code readability with its clean and easy-to-learn syntax, making it a great choice for beginners and experienced developers alike.\n",
        "\n",
        "  now we discuss why python popular\n",
        "\n",
        "      - easy to learn and use\n",
        "\n",
        "      - verasatile and multi purpose\n",
        "\n",
        "      - large community support\n",
        "\n",
        "      - rich ecosystem and libraries\n",
        "\n",
        "\n",
        "2.What is an interpreter in Python\n",
        "\n",
        "\n",
        "*   An interpreter in Python is a program that reads and executes Python code line by line, rather than compiling the entire code before execution. This makes Python an interpreted language, meaning you can run and test code quickly without needing a separate compilation step.\n",
        "\n",
        "  how the python interpreter works\n",
        "\n",
        "  - read the python code\n",
        "\n",
        "  - converts to bytecode\n",
        "\n",
        "  - excute bytecode\n",
        "\n",
        "3.What are pre-defined keywords in Python\n",
        "\n",
        "\n",
        "*   Pre-defined keywords in Python are reserved words that have special meanings in the language. These keywords cannot be used as variable names, function names, or identifiers.\n",
        "\n",
        "  - Boolean Values: True, False, None\n",
        "\n",
        "  - Conditional Statements: if, elif, else\n",
        "\n",
        "  - Loops: for, while, break, continue\n",
        "\n",
        "  - Exception Handling: try, except, finally, raise, assert\n",
        "\n",
        "  - Function Definition: def, return, lambda\n",
        "\n",
        "4.Can keywords be used as variable names\n",
        "\n",
        "\n",
        "   - No, keywords cannot be used as variable names in Python. Since keywords have special meanings, using them as variable names would cause syntax errors.\n",
        "\n",
        "5.What is mutability in Python\n",
        "\n",
        "\n",
        "-  Mutability in Python refers to whether an object’s value can be changed after it is created.\n",
        "\n",
        "    - Mutable objects: Can be modified after creation.\n",
        "\n",
        "    - Immutable objects: Cannot be changed after creation.\n",
        "\n",
        "6.Why are lists mutable, but tuples are immutable\n",
        "\n",
        "\n",
        "\n",
        "*  Lists Are Mutable (Can Be Changed)\n",
        "\n",
        "    - Stored as references: Lists are dynamic and stored as a reference to an array in memory.\n",
        "\n",
        "    - Can be resized: Elements in a list can be added, removed, or changed.\n",
        "\n",
        "    - Flexible but less efficient: Because lists can change, Python must allocate extra memory for future modifications.\n",
        "\n",
        "\n",
        " - Tuples Are Immutable (Cannot Be Changed)\n",
        "\n",
        "    - Stored as fixed structures: Tuples are stored as a single block of memory.\n",
        "\n",
        "    - Cannot be resized: Once created, elements cannot be added, removed, or modified.\n",
        "\n",
        "    - Faster and more memory-efficient: Because they never change, Python can optimize storage.\n",
        "\n",
        "7.What is the difference between “==” and “is” operators in Python\n",
        "\n",
        "\n",
        "-   Both == and is are comparison operators, but they check for different things.\n",
        "\n",
        "  - == (Equality Operator)\n",
        "\n",
        "    - Checks if two values are equal (regardless of memory location).\n",
        "\n",
        "    - It compares the contents (or values) of objects.\n",
        "\n",
        "- is (Identity Operator)\n",
        "\n",
        "   - Checks if two variables refer to the same memory location (object identity).\n",
        "\n",
        "   - It returns True only if both variables point to the exact same object in memory.\n",
        "\n",
        "8.What are logical operators in Python\n",
        "\n",
        "\n",
        "\n",
        "\n",
        "\n",
        "\n",
        "\n",
        "\n",
        "\n",
        "\n",
        "\n",
        "\n",
        "\n",
        "\n",
        "\n",
        "\n",
        "\n",
        "\n",
        "\n",
        "\n",
        "\n",
        "\n",
        "\n",
        "\n",
        "\n",
        "\n",
        "\n",
        "\n"
      ],
      "metadata": {
        "id": "qob9inh_MMoK"
      }
    },
    {
      "cell_type": "markdown",
      "source": [
        "\n",
        "\n",
        "*   Logical operators in Python are used to combine conditional statements and evaluate expressions that result in True or False.\n",
        "\n",
        "  1 .and (Logical AND)\n",
        "\n",
        "  - Returns True only if both conditions are True.\n",
        "\n",
        "  - If any condition is False, the result is False.\n",
        "\n",
        "  2.or (Logical OR)\n",
        "\n",
        "  - Returns True if at least one condition is True.\n",
        "\n",
        "  - Returns False only if both conditions are False.\n",
        "\n",
        "  3.not (Logical NOT)\n",
        "\n",
        "  - Negates the result (True becomes False, False becomes True)."
      ],
      "metadata": {
        "id": "QYHOtkLIZCmf"
      }
    },
    {
      "cell_type": "markdown",
      "source": [
        "9.What is type casting in Python\n",
        "\n",
        "\n",
        "*  Type casting (type conversion) is the process of converting one data type into another in Python. It is useful when handling different types of data, such as converting strings to numbers for mathematical operations.\n"
      ],
      "metadata": {
        "id": "4dNAptsVqWmB"
      }
    },
    {
      "cell_type": "markdown",
      "source": [
        "10.What is the difference between implicit and explicit type casting\n",
        "\n",
        "\n",
        "*   Type casting (or type conversion) is the process of converting one data type into another. Python supports two types of type casting:\n",
        "\n",
        "  1.Implicit Type Casting (Automatic Conversion)\n",
        "\n",
        "  * Done by Python automatically\n",
        "\n",
        " * No data loss\n",
        "\n",
        "* Happens when Python converts smaller data types into larger ones to avoid errors.\n",
        "\n",
        "  2.explicit Type Casting (Manual Conversion)\n",
        "\n",
        "  * Done manually using built-in functions\n",
        "  * May result in data loss\n",
        "  * Used when Python does not automatically convert types.\n",
        "\n"
      ],
      "metadata": {
        "id": "JyRL-vE7rBlO"
      }
    },
    {
      "cell_type": "markdown",
      "source": [],
      "metadata": {
        "id": "m21Zal7tr7Du"
      }
    },
    {
      "cell_type": "markdown",
      "source": [
        "11.What is the purpose of conditional statements in Python\n",
        "\n",
        "\n",
        "*  Conditional statements in Python are used to control the flow of a program by executing different blocks of code based on certain conditions. They allow a program to make decisions and respond dynamically to different inputs or scenarios.\n",
        "\n",
        "KEY PURPOSE\n",
        "\n",
        "  * Decision Making – Execute specific code only when certain conditions are met.\n",
        "\n",
        "* Control Flow – Direct the flow of execution based on logical conditions.\n",
        "\n",
        "* Improved Readability & Efficiency – Makes code more structured and easier to manage.\n",
        "\n",
        "  TYPES OF CONSITIONAL STATEMENT\n",
        "\n",
        "  * if Statement – Executes a block of code if a condition is True.\n",
        "\n",
        "  * if-else Statement – Executes one block if the condition is True, another if it’s False.\n",
        "\n",
        "  * if-elif-else Statement – Checks multiple conditions sequentially.\n",
        "\n",
        "\n"
      ],
      "metadata": {
        "id": "YOHVL14YsCOW"
      }
    },
    {
      "cell_type": "markdown",
      "source": [
        "12.How does the elif statement work\n",
        "\n",
        "\n",
        "*   The elif statement in Python is used to check multiple conditions sequentially. It stands for \"else if\" and allows you to handle multiple cases without writing separate if statements. If the first condition is False, Python moves to the elif condition. If an elif condition is True, the corresponding block of code executes, and Python skips the rest of the elif and else blocks.\n",
        "\n",
        "  Why use elif instead of multiple if statements?\n",
        "    `\n",
        "\n",
        "*  Using elif ensures that only one condition runs, making the code more efficient. If you used multiple if statements instead, all conditions would be checked independently, which could lead to unnecessary computations.\n",
        "\n"
      ],
      "metadata": {
        "id": "fiw9fLH9tcEu"
      }
    },
    {
      "cell_type": "markdown",
      "source": [
        "13.What is the difference between for and while loops\n",
        "\n",
        "\n",
        "*  The main difference between for and while loops in Python is how they iterate and when they should be used.\n",
        "\n",
        "KEY DIFFERENCE\n",
        "\n",
        "\n",
        "*   for loop is used when the number of iterations is fixed, while a while loop is used when the number of iterations is indeterminate.\n",
        "\n",
        "* for loops work well with sequences, whereas while loops depend on a condition.\n",
        "\n",
        "* for loops automatically iterate over elements, while while loops require manual condition updates (like count += 1).\n"
      ],
      "metadata": {
        "id": "Wm0trjoet7xL"
      }
    },
    {
      "cell_type": "markdown",
      "source": [
        "14.Describe a scenario where a while loop is more suitable than a for loop.\n",
        "\n",
        "\n",
        "*  A while loop is more suitable than a for loop when the number of iterations is unknown beforehand and depends on a condition being met.\n",
        "\n",
        "Scenario: User Login Attempt\n",
        "\n",
        "\n",
        "\n",
        "*   Imagine you are writing a program that asks the user for a password and allows unlimited attempts until the correct password is entered. Since we don't know how many attempts the user will need, a while loop is the better choice.\n",
        "\n",
        "WHY WHILE LOOP\n",
        "\n",
        "\n",
        "*   We don’t know how many attempts the user will need.\n",
        "\n",
        "* The loop continues until the correct password is entered.\n",
        "\n",
        "* Using a for loop would be inefficient because we cannot predetermine the number of iterations.\n",
        "\n",
        "\n",
        "\n"
      ],
      "metadata": {
        "id": "DQkmE_hUudE1"
      }
    },
    {
      "cell_type": "markdown",
      "source": [
        "1.Write a Python program to print \"Hello, World!\n"
      ],
      "metadata": {
        "id": "UKjGNZ9qvQDx"
      }
    },
    {
      "cell_type": "code",
      "source": [
        "# CODE\n",
        "print(\"Hello, World!\")\n"
      ],
      "metadata": {
        "colab": {
          "base_uri": "https://localhost:8080/"
        },
        "id": "KC0vR4t3veTh",
        "outputId": "2b9c339e-5093-4820-9ec2-9a9f48ce6a41"
      },
      "execution_count": null,
      "outputs": [
        {
          "output_type": "stream",
          "name": "stdout",
          "text": [
            "Hello, World!\n"
          ]
        }
      ]
    },
    {
      "cell_type": "markdown",
      "source": [
        "2.Write a Python program that displays your name and age"
      ],
      "metadata": {
        "id": "mXFRuYatvqE9"
      }
    },
    {
      "cell_type": "code",
      "source": [
        "# CODE\n",
        "name = \"Amrit Kumar\"\n",
        "age = 21\n",
        "print(\"My name is\", name)\n",
        "print(\"I am\", age, \"years old\")"
      ],
      "metadata": {
        "colab": {
          "base_uri": "https://localhost:8080/"
        },
        "id": "lhl5QTRjvxTW",
        "outputId": "654b8b0c-7fe6-46b7-f971-8dd11dc5c5e9"
      },
      "execution_count": null,
      "outputs": [
        {
          "output_type": "stream",
          "name": "stdout",
          "text": [
            "My name is Amrit Kumar\n",
            "I am 21 years old\n"
          ]
        }
      ]
    },
    {
      "cell_type": "markdown",
      "source": [
        "3.Write code to print all the pre-defined keywords in Python using the keyword library"
      ],
      "metadata": {
        "id": "DTHX0myUwDtd"
      }
    },
    {
      "cell_type": "code",
      "source": [
        "#CODE\n",
        "import keyword\n",
        "print(keyword.kwlist)"
      ],
      "metadata": {
        "colab": {
          "base_uri": "https://localhost:8080/"
        },
        "id": "6XV0Db6gwJV2",
        "outputId": "8e005f25-c266-4e51-c18a-fa484fc763b0"
      },
      "execution_count": null,
      "outputs": [
        {
          "output_type": "stream",
          "name": "stdout",
          "text": [
            "['False', 'None', 'True', 'and', 'as', 'assert', 'async', 'await', 'break', 'class', 'continue', 'def', 'del', 'elif', 'else', 'except', 'finally', 'for', 'from', 'global', 'if', 'import', 'in', 'is', 'lambda', 'nonlocal', 'not', 'or', 'pass', 'raise', 'return', 'try', 'while', 'with', 'yield']\n"
          ]
        }
      ]
    },
    {
      "cell_type": "markdown",
      "source": [
        "4.Write a program that checks if a given word is a Python keyword"
      ],
      "metadata": {
        "id": "s_zYUiB4xbMu"
      }
    },
    {
      "cell_type": "code",
      "source": [
        "#CODE\n",
        "import keyword\n",
        "\n",
        "word = input(\"Enter a word: \")\n",
        "\n",
        "if keyword.iskeyword(word):\n",
        "    print(f\"'{word}' is a Python keyword.\")\n",
        "else:\n",
        "    print(f\"'{word}' is NOT a Python keyword.\")"
      ],
      "metadata": {
        "colab": {
          "base_uri": "https://localhost:8080/"
        },
        "id": "fCemZtkxxd-b",
        "outputId": "f5e52e9e-8d75-492d-f69c-6323f741407b"
      },
      "execution_count": null,
      "outputs": [
        {
          "output_type": "stream",
          "name": "stdout",
          "text": [
            "Enter a word: return\n",
            "'return' is a Python keyword.\n"
          ]
        }
      ]
    },
    {
      "cell_type": "markdown",
      "source": [
        "5.Create a list and tuple in Python, and demonstrate how attempting to change an element works differently\n",
        "for each"
      ],
      "metadata": {
        "id": "mhAwzvJWyRs3"
      }
    },
    {
      "cell_type": "code",
      "source": [
        "# CODE\n",
        "my_list = [1, 2, 3]\n",
        "print(\"Original List:\", my_list)\n",
        "\n",
        "my_list[1] = 99\n",
        "print(\"Modified List:\", my_list)\n",
        "\n",
        "my_tuple = (1, 2, 3)\n",
        "print(\"Original Tuple:\", my_tuple)\n",
        "\n",
        "temp_list = list(my_tuple)\n",
        "temp_list[1] = 99\n",
        "my_tuple = tuple(temp_list)\n",
        "\n",
        "print(\"Modified Tuple:\", my_tuple)"
      ],
      "metadata": {
        "colab": {
          "base_uri": "https://localhost:8080/"
        },
        "id": "NxUpwjudzOoc",
        "outputId": "4047dfb0-3279-4891-bfe3-a8a7b02fdd03"
      },
      "execution_count": null,
      "outputs": [
        {
          "output_type": "stream",
          "name": "stdout",
          "text": [
            "Original List: [1, 2, 3]\n",
            "Modified List: [1, 99, 3]\n",
            "Original Tuple: (1, 2, 3)\n",
            "Modified Tuple: (1, 99, 3)\n"
          ]
        }
      ]
    },
    {
      "cell_type": "markdown",
      "source": [
        "6.Write a function to demonstrate the behavior of mutable and immutable arguments"
      ],
      "metadata": {
        "id": "Slo4doQA0Ffe"
      }
    },
    {
      "cell_type": "code",
      "source": [
        "# CODE\n",
        "def modify_arguments(immutable_arg, mutable_arg):\n",
        "    # Attempt to modify the immutable argument\n",
        "    immutable_arg += 10  # This creates a new variable, not modifying the original\n",
        "    print(\"Inside function (immutable):\", immutable_arg)\n",
        "\n",
        "    # Modify the mutable argument\n",
        "    mutable_arg.append(4)  # This modifies the original list\n",
        "    print(\"Inside function (mutable):\", mutable_arg)\n",
        "\n",
        "# Immutable argument (integer)\n",
        "num = 5\n",
        "\n",
        "# Mutable argument (list)\n",
        "numbers = [1, 2, 3]\n",
        "\n",
        "# Call the function\n",
        "modify_arguments(num, numbers)\n",
        "\n",
        "# Check values after function call\n",
        "print(\"Outside function (immutable):\", num)   # Remains unchanged\n",
        "print(\"Outside function (mutable):\", numbers) # Changes persist"
      ],
      "metadata": {
        "colab": {
          "base_uri": "https://localhost:8080/"
        },
        "id": "o3oXKtIR0Mgf",
        "outputId": "50db8dbd-8eec-42ea-99be-982eed5625a9"
      },
      "execution_count": null,
      "outputs": [
        {
          "output_type": "stream",
          "name": "stdout",
          "text": [
            "Inside function (immutable): 15\n",
            "Inside function (mutable): [1, 2, 3, 4]\n",
            "Outside function (immutable): 5\n",
            "Outside function (mutable): [1, 2, 3, 4]\n"
          ]
        }
      ]
    },
    {
      "cell_type": "markdown",
      "source": [
        "7.Write a function to demonstrate the behavior of mutable and immutable arguments"
      ],
      "metadata": {
        "id": "YeNQQMkj06rL"
      }
    },
    {
      "cell_type": "code",
      "source": [
        "#CODE\n",
        "def modify_arguments(immutable_arg, mutable_arg):\n",
        "    # Attempt to modify the immutable argument\n",
        "    immutable_arg += 10  # This creates a new variable, not modifying the original\n",
        "    print(\"Inside function (immutable):\", immutable_arg)\n",
        "\n",
        "    # Modify the mutable argument\n",
        "    mutable_arg.append(4)  # This modifies the original list\n",
        "    print(\"Inside function (mutable):\", mutable_arg)\n",
        "\n",
        "# Immutable argument (integer)\n",
        "num = 5\n",
        "\n",
        "# Mutable argument (list)\n",
        "numbers = [1, 2, 3]\n",
        "\n",
        "# Call the function\n",
        "modify_arguments(num, numbers)\n",
        "\n",
        "# Check values after function call\n",
        "print(\"Outside function (immutable):\", num)   # Remains unchanged\n",
        "print(\"Outside function (mutable):\", numbers) # Changes persist\n",
        "\n"
      ],
      "metadata": {
        "colab": {
          "base_uri": "https://localhost:8080/"
        },
        "id": "G13DNEX01BLm",
        "outputId": "cf0e89d4-cc13-404c-c7ba-ecad541c79cf"
      },
      "execution_count": null,
      "outputs": [
        {
          "output_type": "stream",
          "name": "stdout",
          "text": [
            "Inside function (immutable): 15\n",
            "Inside function (mutable): [1, 2, 3, 4]\n",
            "Outside function (immutable): 5\n",
            "Outside function (mutable): [1, 2, 3, 4]\n"
          ]
        }
      ]
    },
    {
      "cell_type": "markdown",
      "source": [],
      "metadata": {
        "id": "y-45gDUPx3FN"
      }
    },
    {
      "cell_type": "markdown",
      "source": [
        "8.Write a program to demonstrate the use of logical operators\n"
      ],
      "metadata": {
        "id": "Mm5VpvCg19pr"
      }
    },
    {
      "cell_type": "code",
      "source": [
        "#CODE\n",
        "# Taking user input\n",
        "age = int(input(\"Enter your age: \"))\n",
        "has_id = input(\"Do you have an ID? (yes/no): \").strip().lower() == \"yes\"\n",
        "\n",
        "# Using 'and' operator\n",
        "if age >= 18 and has_id:\n",
        "    print(\"You are eligible to vote.\")\n",
        "else:\n",
        "    print(\"You are not eligible to vote.\")\n",
        "\n",
        "# Using 'or' operator\n",
        "if age < 18 or not has_id:\n",
        "    print(\"You need to be 18+ and have an ID to vote.\")\n",
        "\n",
        "# Using 'not' operator\n",
        "is_minor = not (age >= 18)  # True if age is less than 18\n",
        "print(\"Are you a minor?\", is_minor)\n"
      ],
      "metadata": {
        "colab": {
          "base_uri": "https://localhost:8080/"
        },
        "id": "nCA1lIF-2DRQ",
        "outputId": "efc401a5-e831-48d0-f033-83dde06b9d54"
      },
      "execution_count": null,
      "outputs": [
        {
          "output_type": "stream",
          "name": "stdout",
          "text": [
            "Enter your age: 18\n",
            "Do you have an ID? (yes/no): YES\n",
            "You are eligible to vote.\n",
            "Are you a minor? False\n"
          ]
        }
      ]
    },
    {
      "cell_type": "markdown",
      "source": [
        "9.Write a Python program to convert user input from string to integer, float, and boolean types"
      ],
      "metadata": {
        "id": "pymYRrjG2Woq"
      }
    },
    {
      "cell_type": "code",
      "source": [
        "#CODE\n",
        "# Take user input as a string\n",
        "user_input = input(\"Enter a value: \")\n",
        "\n",
        "# Convert to integer\n",
        "try:\n",
        "    int_value = int(user_input)\n",
        "    print(\"Integer:\", int_value)\n",
        "except ValueError:\n",
        "    print(\"Cannot convert to Integer\")\n",
        "\n",
        "# Convert to float\n",
        "try:\n",
        "    float_value = float(user_input)\n",
        "    print(\"Float:\", float_value)\n",
        "except ValueError:\n",
        "    print(\"Cannot convert to Float\")\n",
        "\n",
        "# Convert to boolean\n",
        "bool_value = bool(user_input)  # Empty string = False, anything else = True\n",
        "print(\"Boolean:\", bool_value)\n"
      ],
      "metadata": {
        "colab": {
          "base_uri": "https://localhost:8080/"
        },
        "id": "maAD7lF52dwT",
        "outputId": "f9a93ff3-3ed6-479e-9916-d3bc5200d884"
      },
      "execution_count": null,
      "outputs": [
        {
          "output_type": "stream",
          "name": "stdout",
          "text": [
            "Enter a value: 2\n",
            "Integer: 2\n",
            "Float: 2.0\n",
            "Boolean: True\n"
          ]
        }
      ]
    },
    {
      "cell_type": "markdown",
      "source": [
        "10.Write code to demonstrate type casting with list elements\n"
      ],
      "metadata": {
        "id": "PRfCwHut2150"
      }
    },
    {
      "cell_type": "code",
      "source": [
        "#CODE\n",
        "# Sample list with string numbers\n",
        "str_list = [\"10\", \"20.5\", \"30\", \"40.8\", \"True\"]\n",
        "\n",
        "# Convert list elements to integers (ignoring non-convertible items)\n",
        "int_list = []\n",
        "for item in str_list:\n",
        "    try:\n",
        "        int_list.append(int(float(item)))  # Convert to float first to handle decimals, then to int\n",
        "    except ValueError:\n",
        "        int_list.append(None)  # Handle non-convertible items gracefully\n",
        "\n",
        "print(\"Integer List:\", int_list)\n",
        "\n",
        "# Convert list elements to floats\n",
        "float_list = []\n",
        "for item in str_list:\n",
        "    try:\n",
        "        float_list.append(float(item))\n",
        "    except ValueError:\n",
        "        float_list.append(None)\n",
        "\n",
        "print(\"Float List:\", float_list)\n",
        "\n",
        "# Convert list elements to boolean\n",
        "bool_list = [bool(item) for item in str_list]  # Empty string = False, everything else = True\n",
        "print(\"Boolean List:\", bool_list)\n"
      ],
      "metadata": {
        "colab": {
          "base_uri": "https://localhost:8080/"
        },
        "id": "4e70RL9J26jm",
        "outputId": "808d596e-500d-4ca1-a1b8-6438e35f0fce"
      },
      "execution_count": null,
      "outputs": [
        {
          "output_type": "stream",
          "name": "stdout",
          "text": [
            "Integer List: [10, 20, 30, 40, None]\n",
            "Float List: [10.0, 20.5, 30.0, 40.8, None]\n",
            "Boolean List: [True, True, True, True, True]\n"
          ]
        }
      ]
    },
    {
      "cell_type": "markdown",
      "source": [
        "11.Write a program that checks if a number is positive, negative, or zero\n"
      ],
      "metadata": {
        "id": "YZQZfsIv3QiR"
      }
    },
    {
      "cell_type": "code",
      "source": [
        "#CODE\n",
        "# Get user input\n",
        "num = float(input(\"Enter a number: \"))\n",
        "\n",
        "# Check if the number is positive, negative, or zero\n",
        "if num > 0:\n",
        "    print(\"The number is positive.\")\n",
        "elif num < 0:\n",
        "    print(\"The number is negative.\")\n",
        "else:\n",
        "    print(\"The number is zero.\")\n"
      ],
      "metadata": {
        "colab": {
          "base_uri": "https://localhost:8080/"
        },
        "id": "lR7dpGSY3U9H",
        "outputId": "1e921c25-28b0-4e4f-f1c1-ccecbf35e570"
      },
      "execution_count": null,
      "outputs": [
        {
          "output_type": "stream",
          "name": "stdout",
          "text": [
            "Enter a number: -7\n",
            "The number is negative.\n"
          ]
        }
      ]
    },
    {
      "cell_type": "markdown",
      "source": [
        "12.Write a for loop to print numbers from 1 to 100\n"
      ],
      "metadata": {
        "id": "-zBBUJok3hTI"
      }
    },
    {
      "cell_type": "code",
      "source": [
        "#CODE\n",
        "for num in range(1, 101):\n",
        "    print(num)"
      ],
      "metadata": {
        "colab": {
          "base_uri": "https://localhost:8080/"
        },
        "id": "VRcndEfJ3l5r",
        "outputId": "45f14d0a-1e6a-474b-871c-2cf14c2eb2f5"
      },
      "execution_count": null,
      "outputs": [
        {
          "output_type": "stream",
          "name": "stdout",
          "text": [
            "1\n",
            "2\n",
            "3\n",
            "4\n",
            "5\n",
            "6\n",
            "7\n",
            "8\n",
            "9\n",
            "10\n",
            "11\n",
            "12\n",
            "13\n",
            "14\n",
            "15\n",
            "16\n",
            "17\n",
            "18\n",
            "19\n",
            "20\n",
            "21\n",
            "22\n",
            "23\n",
            "24\n",
            "25\n",
            "26\n",
            "27\n",
            "28\n",
            "29\n",
            "30\n",
            "31\n",
            "32\n",
            "33\n",
            "34\n",
            "35\n",
            "36\n",
            "37\n",
            "38\n",
            "39\n",
            "40\n",
            "41\n",
            "42\n",
            "43\n",
            "44\n",
            "45\n",
            "46\n",
            "47\n",
            "48\n",
            "49\n",
            "50\n",
            "51\n",
            "52\n",
            "53\n",
            "54\n",
            "55\n",
            "56\n",
            "57\n",
            "58\n",
            "59\n",
            "60\n",
            "61\n",
            "62\n",
            "63\n",
            "64\n",
            "65\n",
            "66\n",
            "67\n",
            "68\n",
            "69\n",
            "70\n",
            "71\n",
            "72\n",
            "73\n",
            "74\n",
            "75\n",
            "76\n",
            "77\n",
            "78\n",
            "79\n",
            "80\n",
            "81\n",
            "82\n",
            "83\n",
            "84\n",
            "85\n",
            "86\n",
            "87\n",
            "88\n",
            "89\n",
            "90\n",
            "91\n",
            "92\n",
            "93\n",
            "94\n",
            "95\n",
            "96\n",
            "97\n",
            "98\n",
            "99\n",
            "100\n"
          ]
        }
      ]
    },
    {
      "cell_type": "markdown",
      "source": [
        "13.Write a Python program to find the sum of all even numbers between 1 and 500\n"
      ],
      "metadata": {
        "id": "S2QRJyYM30zi"
      }
    },
    {
      "cell_type": "code",
      "source": [
        "#CODE\n",
        "# Initialize sum variable\n",
        "sum_even = 0\n",
        "\n",
        "# Loop through even numbers from 2 to 500\n",
        "for num in range(2, 501, 2):  # Start from 2, go up to 500, step by 2\n",
        "    sum_even += num\n",
        "\n",
        "# Print the result\n",
        "print(\"Sum of all even numbers between 1 and 500:\", sum_even)\n"
      ],
      "metadata": {
        "colab": {
          "base_uri": "https://localhost:8080/"
        },
        "id": "BC-_zKEX35gr",
        "outputId": "935c1355-0f4b-448c-aac4-a8109b94c7d6"
      },
      "execution_count": null,
      "outputs": [
        {
          "output_type": "stream",
          "name": "stdout",
          "text": [
            "Sum of all even numbers between 1 and 500: 62750\n"
          ]
        }
      ]
    },
    {
      "cell_type": "markdown",
      "source": [
        "14.Write a program to reverse a string using a while loop\n"
      ],
      "metadata": {
        "id": "Y_fo90hJ4KzQ"
      }
    },
    {
      "cell_type": "code",
      "source": [
        "#CODE\n",
        "# Get user input\n",
        "original_string = input(\"Enter a string: \")\n",
        "\n",
        "# Initialize variables\n",
        "reversed_string = \"\"\n",
        "index = len(original_string) - 1  # Start from the last character\n",
        "\n",
        "# Reverse the string using a while loop\n",
        "while index >= 0:\n",
        "    reversed_string += original_string[index]  # Append character to the new string\n",
        "    index -= 1  # Move to the previous character\n",
        "\n",
        "# Print the reversed string\n",
        "print(\"Reversed string:\", reversed_string)\n"
      ],
      "metadata": {
        "colab": {
          "base_uri": "https://localhost:8080/"
        },
        "id": "lBrQihki4PFU",
        "outputId": "a5f533b3-5ab7-45b7-9704-49da14afe182"
      },
      "execution_count": null,
      "outputs": [
        {
          "output_type": "stream",
          "name": "stdout",
          "text": [
            "Enter a string: AMRIT\n",
            "Reversed string: TIRMA\n"
          ]
        }
      ]
    },
    {
      "cell_type": "markdown",
      "source": [
        "15.Write a Python program to calculate the factorial of a number provided by the user using a while loop.\n"
      ],
      "metadata": {
        "id": "KkFHKoDM4xA1"
      }
    },
    {
      "cell_type": "code",
      "source": [
        "#CODE\n",
        "# Get user input\n",
        "num = int(input(\"Enter a number: \"))\n",
        "\n",
        "# Initialize factorial variable\n",
        "factorial = 1\n",
        "\n",
        "# Ensure the number is non-negative\n",
        "if num < 0:\n",
        "    print(\"Factorial is not defined for negative numbers.\")\n",
        "else:\n",
        "    # Initialize counter\n",
        "    i = num\n",
        "\n",
        "    # Calculate factorial using while loop\n",
        "    while i > 0:\n",
        "        factorial *= i  # Multiply factorial by current number\n",
        "        i -= 1  # Decrease the counter\n",
        "\n",
        "    # Print the result\n",
        "    print(f\"Factorial of {num} is {factorial}\")\n"
      ],
      "metadata": {
        "colab": {
          "base_uri": "https://localhost:8080/"
        },
        "id": "WVG3XxNg44Bd",
        "outputId": "8e797ace-55b1-43dd-be56-88f6abcdd913"
      },
      "execution_count": null,
      "outputs": [
        {
          "output_type": "stream",
          "name": "stdout",
          "text": [
            "Enter a number: 5\n",
            "Factorial of 5 is 120\n"
          ]
        }
      ]
    }
  ]
}